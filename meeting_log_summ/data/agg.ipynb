{
 "cells": [
  {
   "cell_type": "code",
   "execution_count": 1,
   "metadata": {},
   "outputs": [],
   "source": [
    "import json\n",
    "import os\n",
    "import re\n",
    "from tqdm import tqdm"
   ]
  },
  {
   "cell_type": "code",
   "execution_count": 2,
   "metadata": {},
   "outputs": [
    {
     "name": "stdout",
     "output_type": "stream",
     "text": [
      "Number of files: 27200\n"
     ]
    }
   ],
   "source": [
    "target_dir = \"./data/\"\n",
    "\n",
    "# walk through the directory, recursively\n",
    "json_fn_list = []\n",
    "for root, dirs, files in os.walk(target_dir):\n",
    "    for file in files:\n",
    "        if file.endswith(\".json\"):\n",
    "            json_fn_list.append(os.path.join(root, file))\n",
    "\n",
    "print(f\"Number of files: {len(json_fn_list)}\")"
   ]
  },
  {
   "cell_type": "code",
   "execution_count": 3,
   "metadata": {},
   "outputs": [],
   "source": [
    "def read_json(fn):\n",
    "    with open(fn, \"r\") as f:\n",
    "        js = json.load(f)\n",
    "\n",
    "    return js"
   ]
  },
  {
   "cell_type": "code",
   "execution_count": 4,
   "metadata": {},
   "outputs": [],
   "source": [
    "output_fn = \"./data.jsonl\"\n",
    "\n",
    "with open(output_fn, \"w\") as f:\n",
    "    for fn in tqdm(json_fn_list):\n",
    "        js = read_json(fn)\n",
    "        dialogue = js[\"Meta(Refine)\"][\"passage\"]\n",
    "        original_dialogue = dialogue\n",
    "\n",
    "        dialogue = dialogue.replace(\"\\r\", \"\\n\")\n",
    "        dialogue = re.sub(r\"\\n+\", \"\\n\", dialogue)\n",
    "        dialogue = re.sub(r\" +\", \" \", dialogue)\n",
    "        dialogue = dialogue.strip()\n",
    "\n",
    "        f.write(json.dumps(dialogue, ensure_ascii=False) + \"\\n\")\n",
    "        f.flush()"
   ]
  }
 ],
 "metadata": {
  "kernelspec": {
   "display_name": "appletv_subtitle",
   "language": "python",
   "name": "python3"
  },
  "language_info": {
   "codemirror_mode": {
    "name": "ipython",
    "version": 3
   },
   "file_extension": ".py",
   "mimetype": "text/x-python",
   "name": "python",
   "nbconvert_exporter": "python",
   "pygments_lexer": "ipython3",
   "version": "3.10.10"
  },
  "orig_nbformat": 4
 },
 "nbformat": 4,
 "nbformat_minor": 2
}
