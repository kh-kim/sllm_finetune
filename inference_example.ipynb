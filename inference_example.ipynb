{
 "cells": [
  {
   "cell_type": "code",
   "execution_count": null,
   "metadata": {},
   "outputs": [],
   "source": [
    "import os\n",
    "\n",
    "os.environ[\"CUDA_VISIBLE_DEVICES\"] = \"3\""
   ]
  },
  {
   "cell_type": "code",
   "execution_count": null,
   "metadata": {},
   "outputs": [],
   "source": [
    "from inference import LoRAWrapper"
   ]
  },
  {
   "cell_type": "code",
   "execution_count": null,
   "metadata": {},
   "outputs": [],
   "source": [
    "checkpoint_dir_path = \"/home/khkim/workspace/sllm_finetune_with_llm_augmentation/meeting_log_summ/checkpoints/8k-8bit_20230907-182804/checkpoint-1440\"\n",
    "use_4bit = False\n",
    "eos_token_id = 3\n",
    "max_new_tokens = 128"
   ]
  },
  {
   "cell_type": "code",
   "execution_count": null,
   "metadata": {},
   "outputs": [],
   "source": [
    "lora_wrapper = LoRAWrapper(\n",
    "    checkpoint_dir_path=checkpoint_dir_path,\n",
    "    use_4bit=use_4bit,\n",
    "    eos_token_id=eos_token_id,\n",
    ")"
   ]
  },
  {
   "cell_type": "code",
   "execution_count": null,
   "metadata": {},
   "outputs": [],
   "source": [
    "input_text = \\\n",
    "\"\"\"### 회의록:\n",
    "문화체육관광부장관 유진룡] \"저희 생각에는 20명 정도를 생각하는 것은 서로 소통 가능한 범위를 생각을 했습니다. 너무 많아지면요 서로…… 그러니까 대통령 중심으로 충분히 소통이 돼야지 되는데 그리고 위원들 사이에서 소통이 돼야 되는데 그런 점에서 문제가 있지 않겠나 하는 판단을 했었습니다.\"\n",
    "강은희 위원] \"지난 12일 신문방송편집인협회 초청 토론회에서 문화융성에 대해서 단순한 예술 진흥 차원을 넘어 우리 사회의 정신적 가치기반을 만드는 개념이라고 말씀하셨지요?\"\n",
    "문화체육관광부장관 유진룡] \"예.\"\n",
    "강은희 위원] \"문체부만 노력해서는 문화융성이 이루어지지 않으므로 모든 부처의 정책에 문화의 가치가 담겨야 한다고 밝히셨는데 범정부적 추진력을 그러면 어떻게 확보할 예정이십니까?\"\n",
    "문화체육관광부장관 유진룡] \"그 의견이 저희뿐만이 아니라 정부 전체에서 국정기조로 채택을 하고 있는 겁니다. 말씀드린 것처럼 경제정책에도 문화의 가치가 담겨야 된다고 생각을 하고 있고요. 그것은 국무회의든 여러 경우를 통해서 저희가 여러 부처에 그렇게 권유를 하고 또 협의를 하고 있습니다.\"\n",
    "강은희 위원] \"문화융성 자문회의가 잘되면 문화융성위원회가 또 창조경제하고도 상당히 연결될 수 있다고 생각을 합니다. 그리고 지금 이슈 중에 있는 한국관광공사 인천공항면세점 민영화 부분 있지요. 지금 2차례 유찰됐지요?\"\n",
    "문화체육관광부장관 유진룡] \"예.\"\n",
    "강은희 위원] \"지금 한국관광공사에서는 제가 알아보니까 한국관광공사에서 판매하는 국산품이 다른 면세점보다 국산품 비중이 가장 높은데요. 지금 이게 만약에 다른 면세사업자가 입찰을 하게 되어서 낙찰을 받게 되면 한국관광공사는 운영을 포기하는 거지요?\"\n",
    "\n",
    "### 회의 참석자:\"\"\""
   ]
  },
  {
   "cell_type": "code",
   "execution_count": null,
   "metadata": {},
   "outputs": [],
   "source": [
    "print(lora_wrapper.generate(input_text))"
   ]
  }
 ],
 "metadata": {
  "kernelspec": {
   "display_name": "base",
   "language": "python",
   "name": "python3"
  },
  "language_info": {
   "codemirror_mode": {
    "name": "ipython",
    "version": 3
   },
   "file_extension": ".py",
   "mimetype": "text/x-python",
   "name": "python",
   "nbconvert_exporter": "python",
   "pygments_lexer": "ipython3",
   "version": "3.10.10"
  },
  "orig_nbformat": 4
 },
 "nbformat": 4,
 "nbformat_minor": 2
}
