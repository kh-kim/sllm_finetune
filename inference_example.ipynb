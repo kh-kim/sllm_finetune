{
 "cells": [
  {
   "cell_type": "code",
   "execution_count": 1,
   "metadata": {},
   "outputs": [
    {
     "name": "stdout",
     "output_type": "stream",
     "text": [
      "Wed Sep 13 20:41:19 2023       \n",
      "+---------------------------------------------------------------------------------------+\n",
      "| NVIDIA-SMI 530.41.03              Driver Version: 530.41.03    CUDA Version: 12.1     |\n",
      "|-----------------------------------------+----------------------+----------------------+\n",
      "| GPU  Name                  Persistence-M| Bus-Id        Disp.A | Volatile Uncorr. ECC |\n",
      "| Fan  Temp  Perf            Pwr:Usage/Cap|         Memory-Usage | GPU-Util  Compute M. |\n",
      "|                                         |                      |               MIG M. |\n",
      "|=========================================+======================+======================|\n",
      "|   0  NVIDIA GeForce RTX 3090         Off| 00000000:01:00.0 Off |                  N/A |\n",
      "|  0%   33C    P8               20W / 370W|     19MiB / 24576MiB |      0%      Default |\n",
      "|                                         |                      |                  N/A |\n",
      "+-----------------------------------------+----------------------+----------------------+\n",
      "|   1  NVIDIA GeForce RTX 3090         Off| 00000000:04:00.0 Off |                  N/A |\n",
      "|  0%   35C    P8               17W / 370W|      6MiB / 24576MiB |      0%      Default |\n",
      "|                                         |                      |                  N/A |\n",
      "+-----------------------------------------+----------------------+----------------------+\n",
      "|   2  NVIDIA GeForce RTX 3090         Off| 00000000:07:00.0 Off |                  N/A |\n",
      "|  0%   35C    P8               25W / 370W|      6MiB / 24576MiB |      0%      Default |\n",
      "|                                         |                      |                  N/A |\n",
      "+-----------------------------------------+----------------------+----------------------+\n",
      "|   3  NVIDIA GeForce RTX 3090         Off| 00000000:08:00.0 Off |                  N/A |\n",
      "|  0%   34C    P8               24W / 370W|      6MiB / 24576MiB |      0%      Default |\n",
      "|                                         |                      |                  N/A |\n",
      "+-----------------------------------------+----------------------+----------------------+\n",
      "                                                                                         \n",
      "+---------------------------------------------------------------------------------------+\n",
      "| Processes:                                                                            |\n",
      "|  GPU   GI   CI        PID   Type   Process name                            GPU Memory |\n",
      "|        ID   ID                                                             Usage      |\n",
      "|=======================================================================================|\n",
      "|    0   N/A  N/A      1576      G   /usr/lib/xorg/Xorg                            9MiB |\n",
      "|    0   N/A  N/A      1767      G   /usr/bin/gnome-shell                          8MiB |\n",
      "|    1   N/A  N/A      1576      G   /usr/lib/xorg/Xorg                            4MiB |\n",
      "|    2   N/A  N/A      1576      G   /usr/lib/xorg/Xorg                            4MiB |\n",
      "|    3   N/A  N/A      1576      G   /usr/lib/xorg/Xorg                            4MiB |\n",
      "+---------------------------------------------------------------------------------------+\n"
     ]
    }
   ],
   "source": [
    "!nvidia-smi"
   ]
  },
  {
   "cell_type": "code",
   "execution_count": null,
   "metadata": {},
   "outputs": [],
   "source": [
    "from google.colab import drive\n",
    "drive.mount('/content/drive')"
   ]
  },
  {
   "cell_type": "code",
   "execution_count": null,
   "metadata": {},
   "outputs": [],
   "source": [
    "!pip install transformers peft bitsandbytes accelerate datasets"
   ]
  },
  {
   "cell_type": "code",
   "execution_count": 2,
   "metadata": {},
   "outputs": [],
   "source": [
    "import os\n",
    "\n",
    "os.environ[\"CUDA_VISIBLE_DEVICES\"] = \"0\""
   ]
  },
  {
   "cell_type": "code",
   "execution_count": 3,
   "metadata": {},
   "outputs": [
    {
     "name": "stderr",
     "output_type": "stream",
     "text": [
      "/home/khkim/miniconda3/lib/python3.10/site-packages/tqdm/auto.py:21: TqdmWarning: IProgress not found. Please update jupyter and ipywidgets. See https://ipywidgets.readthedocs.io/en/stable/user_install.html\n",
      "  from .autonotebook import tqdm as notebook_tqdm\n"
     ]
    },
    {
     "name": "stdout",
     "output_type": "stream",
     "text": [
      "\n",
      "===================================BUG REPORT===================================\n",
      "Welcome to bitsandbytes. For bug reports, please run\n",
      "\n",
      "python -m bitsandbytes\n",
      "\n",
      " and submit this information together with your error trace to: https://github.com/TimDettmers/bitsandbytes/issues\n",
      "================================================================================\n",
      "bin /home/khkim/miniconda3/lib/python3.10/site-packages/bitsandbytes/libbitsandbytes_cuda121.so\n",
      "CUDA SETUP: CUDA runtime path found: /usr/local/cuda/lib64/libcudart.so\n",
      "CUDA SETUP: Highest compute capability among GPUs detected: 8.6\n",
      "CUDA SETUP: Detected CUDA version 121\n",
      "CUDA SETUP: Loading binary /home/khkim/miniconda3/lib/python3.10/site-packages/bitsandbytes/libbitsandbytes_cuda121.so...\n"
     ]
    },
    {
     "name": "stderr",
     "output_type": "stream",
     "text": [
      "/home/khkim/miniconda3/lib/python3.10/site-packages/bitsandbytes/cuda_setup/main.py:149: UserWarning: /home/khkim/miniconda3 did not contain ['libcudart.so', 'libcudart.so.11.0', 'libcudart.so.12.0'] as expected! Searching further paths...\n",
      "  warn(msg)\n"
     ]
    }
   ],
   "source": [
    "import sys\n",
    "sys.path.append(\".\")\n",
    "\n",
    "from inference import LoRAWrapper"
   ]
  },
  {
   "cell_type": "code",
   "execution_count": 4,
   "metadata": {},
   "outputs": [],
   "source": [
    "checkpoint_dir_path = \"/home/khkim/workspace/sllm_finetune_with_llm_augmentation/meeting_log_summ/checkpoints/8k-8bit_20230907-182804/checkpoint-1440\"\n",
    "use_4bit = False\n",
    "eos_token_id = 3\n",
    "max_new_tokens = 128"
   ]
  },
  {
   "cell_type": "code",
   "execution_count": 5,
   "metadata": {},
   "outputs": [
    {
     "name": "stderr",
     "output_type": "stream",
     "text": [
      "Loading checkpoint shards: 100%|██████████| 28/28 [00:11<00:00,  2.47it/s]\n"
     ]
    }
   ],
   "source": [
    "lora_wrapper = LoRAWrapper(\n",
    "    checkpoint_dir_path=checkpoint_dir_path,\n",
    "    use_4bit=use_4bit,\n",
    "    eos_token_id=eos_token_id,\n",
    ")"
   ]
  },
  {
   "cell_type": "code",
   "execution_count": 6,
   "metadata": {},
   "outputs": [],
   "source": [
    "input_text = \\\n",
    "\"\"\"### 회의록:\n",
    "문화체육관광부장관 유진룡] \"저희 생각에는 20명 정도를 생각하는 것은 서로 소통 가능한 범위를 생각을 했습니다. 너무 많아지면요 서로…… 그러니까 대통령 중심으로 충분히 소통이 돼야지 되는데 그리고 위원들 사이에서 소통이 돼야 되는데 그런 점에서 문제가 있지 않겠나 하는 판단을 했었습니다.\"\n",
    "강은희 위원] \"지난 12일 신문방송편집인협회 초청 토론회에서 문화융성에 대해서 단순한 예술 진흥 차원을 넘어 우리 사회의 정신적 가치기반을 만드는 개념이라고 말씀하셨지요?\"\n",
    "문화체육관광부장관 유진룡] \"예.\"\n",
    "강은희 위원] \"문체부만 노력해서는 문화융성이 이루어지지 않으므로 모든 부처의 정책에 문화의 가치가 담겨야 한다고 밝히셨는데 범정부적 추진력을 그러면 어떻게 확보할 예정이십니까?\"\n",
    "문화체육관광부장관 유진룡] \"그 의견이 저희뿐만이 아니라 정부 전체에서 국정기조로 채택을 하고 있는 겁니다. 말씀드린 것처럼 경제정책에도 문화의 가치가 담겨야 된다고 생각을 하고 있고요. 그것은 국무회의든 여러 경우를 통해서 저희가 여러 부처에 그렇게 권유를 하고 또 협의를 하고 있습니다.\"\n",
    "강은희 위원] \"문화융성 자문회의가 잘되면 문화융성위원회가 또 창조경제하고도 상당히 연결될 수 있다고 생각을 합니다. 그리고 지금 이슈 중에 있는 한국관광공사 인천공항면세점 민영화 부분 있지요. 지금 2차례 유찰됐지요?\"\n",
    "문화체육관광부장관 유진룡] \"예.\"\n",
    "강은희 위원] \"지금 한국관광공사에서는 제가 알아보니까 한국관광공사에서 판매하는 국산품이 다른 면세점보다 국산품 비중이 가장 높은데요. 지금 이게 만약에 다른 면세사업자가 입찰을 하게 되어서 낙찰을 받게 되면 한국관광공사는 운영을 포기하는 거지요?\"\n",
    "\n",
    "### 회의 참석자:\"\"\""
   ]
  },
  {
   "cell_type": "code",
   "execution_count": 7,
   "metadata": {},
   "outputs": [
    {
     "name": "stderr",
     "output_type": "stream",
     "text": [
      "Setting `pad_token_id` to `eos_token_id`:3 for open-end generation.\n"
     ]
    },
    {
     "name": "stdout",
     "output_type": "stream",
     "text": [
      "### 회의록:\n",
      "문화체육관광부장관 유진룡] \"저희 생각에는 20명 정도를 생각하는 것은 서로 소통 가능한 범위를 생각을 했습니다. 너무 많아지면요 서로…… 그러니까 대통령 중심으로 충분히 소통이 돼야지 되는데 그리고 위원들 사이에서 소통이 돼야 되는데 그런 점에서 문제가 있지 않겠나 하는 판단을 했었습니다.\"\n",
      "강은희 위원] \"지난 12일 신문방송편집인협회 초청 토론회에서 문화융성에 대해서 단순한 예술 진흥 차원을 넘어 우리 사회의 정신적 가치기반을 만드는 개념이라고 말씀하셨지요?\"\n",
      "문화체육관광부장관 유진룡] \"예.\"\n",
      "강은희 위원] \"문체부만 노력해서는 문화융성이 이루어지지 않으므로 모든 부처의 정책에 문화의 가치가 담겨야 한다고 밝히셨는데 범정부적 추진력을 그러면 어떻게 확보할 예정이십니까?\"\n",
      "문화체육관광부장관 유진룡] \"그 의견이 저희뿐만이 아니라 정부 전체에서 국정기조로 채택을 하고 있는 겁니다. 말씀드린 것처럼 경제정책에도 문화의 가치가 담겨야 된다고 생각을 하고 있고요. 그것은 국무회의든 여러 경우를 통해서 저희가 여러 부처에 그렇게 권유를 하고 또 협의를 하고 있습니다.\"\n",
      "강은희 위원] \"문화융성 자문회의가 잘되면 문화융성위원회가 또 창조경제하고도 상당히 연결될 수 있다고 생각을 합니다. 그리고 지금 이슈 중에 있는 한국관광공사 인천공항면세점 민영화 부분 있지요. 지금 2차례 유찰됐지요?\"\n",
      "문화체육관광부장관 유진룡] \"예.\"\n",
      "강은희 위원] \"지금 한국관광공사에서는 제가 알아보니까 한국관광공사에서 판매하는 국산품이 다른 면세점보다 국산품 비중이 가장 높은데요. 지금 이게 만약에 다른 면세사업자가 입찰을 하게 되어서 낙찰을 받게 되면 한국관광공사는 운영을 포기하는 거지요?\"\n",
      "\n",
      "### 회의 참석자:\n",
      "문화체육관광부장관 유진룡\n",
      "강은희 위원\n",
      "\n",
      "### 주장하는 사람:\n",
      "문화체육관광부장관 유진룡\n",
      "강은희 위원\n",
      "\n",
      "### 주장과 근거:\n",
      "주장: 문화체육관광부장관 유진룡은 20명 정도의 인원을 생각하는 것은 서로 소통 가능한 범위를 고려한 것이며, 대통령 중심으로 소통이 이루어져야 한다고 주장했다.\n",
      "근거: 유진룡 장관은 대통령 중심으로 소통이 이루어져야 한다고 판단하였으며, 위원들 사이에서도 소통이 이루어져야 한다고 생각했다.\n",
      "주장: 강은희 위원은 문화융성에 대해 단순한 예술 진흥 차원을 넘어 우리 사회의 정신적 가치기반을 만드는 개념이라고 주장했다.\n",
      "근거: 강은희 위원은 문화융성을 단순한 예술 진흥 차원을 넘어 우리 사회의 정신적 가치기반을 만드는 개념으로 생각하였으며, 범정부적 추진력을 어떻게 확보할 예정인지에 대해 질문했다.\n",
      "\n",
      "### 요약:\n",
      "문화체육관광부장관 유진룡은 대통령 중심으로 소통이 이루어져야 한다고 주장하였고, 강은희 위원은 문화융성을 단순한 예술 진흥 차원을 넘어 우리 사회의 정신적 가치기반을 만드는 개념으로 생각하였다. 이에 대해 유진룡 장관은 범정부적 추진력을 어떻게 확보할 예정인지에 대해 답변하였다.<|sep|>\n"
     ]
    }
   ],
   "source": [
    "print(lora_wrapper.generate(input_text))"
   ]
  }
 ],
 "metadata": {
  "kernelspec": {
   "display_name": "base",
   "language": "python",
   "name": "python3"
  },
  "language_info": {
   "codemirror_mode": {
    "name": "ipython",
    "version": 3
   },
   "file_extension": ".py",
   "mimetype": "text/x-python",
   "name": "python",
   "nbconvert_exporter": "python",
   "pygments_lexer": "ipython3",
   "version": "3.10.10"
  },
  "orig_nbformat": 4
 },
 "nbformat": 4,
 "nbformat_minor": 2
}
